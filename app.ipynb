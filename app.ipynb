{
 "cells": [
  {
   "cell_type": "code",
   "execution_count": 1,
   "metadata": {},
   "outputs": [],
   "source": [
    "from openai import OpenAI\n",
    "import time\n",
    "import os\n",
    "from dotenv import load_dotenv\n",
    "\n",
    "load_dotenv()"
   ]
  },
  {
   "cell_type": "code",
   "execution_count": 7,
   "metadata": {},
   "outputs": [],
   "source": [
    "import google.generativeai as genai\n",
    "\n",
    "genai.configure(api_key=os.getenv('GEMINI_KEY'))\n",
    "\n",
    "def run_gemini(prompt):\n",
    "  # Create the model\n",
    "  generation_config = {\n",
    "    \"temperature\": 1,\n",
    "    \"top_p\": 0.95,\n",
    "    \"top_k\": 64,\n",
    "    \"max_output_tokens\": 8192,\n",
    "    \"response_mime_type\": \"text/plain\",\n",
    "  }\n",
    "\n",
    "  model = genai.GenerativeModel(\n",
    "    model_name=\"gemini-1.5-flash\",\n",
    "    generation_config=generation_config,\n",
    "  )\n",
    "\n",
    "  chat_session = model.start_chat(\n",
    "    history=[\n",
    "      {\n",
    "        \"role\": \"user\",\n",
    "        \"parts\": [\n",
    "          \"Você vai receber um código com um problema lógico de progamação e seu papel é retornar apenas o número da linha com defeito\",\n",
    "        ],\n",
    "      },\n",
    "    ]\n",
    "  )\n",
    "\n",
    "  response = chat_session.send_message(prompt)\n",
    "\n",
    "  return response.text"
   ]
  },
  {
   "cell_type": "code",
   "execution_count": 38,
   "metadata": {},
   "outputs": [],
   "source": [
    "from tenacity import retry, stop_after_attempt, wait_fixed\n",
    "\n",
    "client = OpenAI(\n",
    "  api_key=os.getenv('GPT_KEY'),\n",
    ")\n",
    "\n",
    "@retry(stop=stop_after_attempt(2), wait=wait_fixed(10))\n",
    "def get_answer(fault_code):\n",
    "    completion = client.chat.completions.create(\n",
    "    model=\"gpt-4o-mini\",\n",
    "    messages=[\n",
    "        {\"role\": \"system\", \"content\": \"Você vai receber um código com um problema lógico de progamação e seu papel é retornar apenas o número da linha com defeito\"},\n",
    "        {\"role\": \"user\", \"content\": fault_code}\n",
    "        ]\n",
    "    )\n",
    "    return completion.choices[0].message.content"
   ]
  },
  {
   "cell_type": "markdown",
   "metadata": {},
   "source": [
    "Download e processamento do dataset"
   ]
  },
  {
   "cell_type": "code",
   "execution_count": 182,
   "metadata": {},
   "outputs": [],
   "source": [
    "df = pd.read_csv(\"sampled_dataset.csv\")"
   ]
  },
  {
   "cell_type": "code",
   "execution_count": 183,
   "metadata": {},
   "outputs": [
    {
     "data": {
      "text/plain": [
       "Index(['ID', 'Pasta', 'faultyVersion', 'correctVersion', 'faultLocation',\n",
       "       'Dificuldade', 'Dir', 'Date', 'Difficulty'],\n",
       "      dtype='object')"
      ]
     },
     "execution_count": 183,
     "metadata": {},
     "output_type": "execute_result"
    }
   ],
   "source": [
    "df.columns"
   ]
  },
  {
   "cell_type": "code",
   "execution_count": 188,
   "metadata": {},
   "outputs": [
    {
     "data": {
      "text/html": [
       "<div>\n",
       "<style scoped>\n",
       "    .dataframe tbody tr th:only-of-type {\n",
       "        vertical-align: middle;\n",
       "    }\n",
       "\n",
       "    .dataframe tbody tr th {\n",
       "        vertical-align: top;\n",
       "    }\n",
       "\n",
       "    .dataframe thead th {\n",
       "        text-align: right;\n",
       "    }\n",
       "</style>\n",
       "<table border=\"1\" class=\"dataframe\">\n",
       "  <thead>\n",
       "    <tr style=\"text-align: right;\">\n",
       "      <th></th>\n",
       "      <th>ID</th>\n",
       "      <th>Pasta</th>\n",
       "      <th>faultyVersion</th>\n",
       "      <th>correctVersion</th>\n",
       "      <th>faultLocation</th>\n",
       "      <th>Dificuldade</th>\n",
       "      <th>Dir</th>\n",
       "      <th>Date</th>\n",
       "      <th>Difficulty</th>\n",
       "    </tr>\n",
       "  </thead>\n",
       "  <tbody>\n",
       "    <tr>\n",
       "      <th>0</th>\n",
       "      <td>54981846</td>\n",
       "      <td>abc354_a</td>\n",
       "      <td>H = int(input())\\nP = 0\\n\\nfor i in range(H):\\...</td>\n",
       "      <td>H = int(input())\\nP = 0\\n\\nfor i in range(H + ...</td>\n",
       "      <td>4</td>\n",
       "      <td>a</td>\n",
       "      <td>abc354_a/54981846</td>\n",
       "      <td>2024-05-18</td>\n",
       "      <td>21</td>\n",
       "    </tr>\n",
       "    <tr>\n",
       "      <th>1</th>\n",
       "      <td>44877017</td>\n",
       "      <td>abc242_a</td>\n",
       "      <td>#!/usr/bin/env python3\\n\\nimport sys\\n\\na, b, ...</td>\n",
       "      <td>#!/usr/bin/env python3\\n\\nimport sys\\n\\na, b, ...</td>\n",
       "      <td>9</td>\n",
       "      <td>a</td>\n",
       "      <td>abc242_a/44877017</td>\n",
       "      <td>2022-03-05</td>\n",
       "      <td>37</td>\n",
       "    </tr>\n",
       "    <tr>\n",
       "      <th>2</th>\n",
       "      <td>44815699</td>\n",
       "      <td>abc229_b</td>\n",
       "      <td>import sys\\n\\na, b = input().split()\\n\\nn = mi...</td>\n",
       "      <td>import sys\\n\\na, b = input().split()\\n\\nn = mi...</td>\n",
       "      <td>7</td>\n",
       "      <td>b</td>\n",
       "      <td>abc229_b/44815699</td>\n",
       "      <td>2021-11-27</td>\n",
       "      <td>42</td>\n",
       "    </tr>\n",
       "    <tr>\n",
       "      <th>3</th>\n",
       "      <td>45536785</td>\n",
       "      <td>abc261_a</td>\n",
       "      <td>l1,r1,l2,r2=map(int,input().split())\\nans=0\\nf...</td>\n",
       "      <td>l1,r1,l2,r2=map(int,input().split())\\nans=0\\nf...</td>\n",
       "      <td>3</td>\n",
       "      <td>a</td>\n",
       "      <td>abc261_a/45536785</td>\n",
       "      <td>2022-07-23</td>\n",
       "      <td>51</td>\n",
       "    </tr>\n",
       "    <tr>\n",
       "      <th>4</th>\n",
       "      <td>54238360</td>\n",
       "      <td>abc323_b</td>\n",
       "      <td>N = int(input())\\nS = [\"\"] * N\\nfor i in range...</td>\n",
       "      <td>N = int(input())\\nS = [\"\"] * N\\nfor i in range...</td>\n",
       "      <td>0</td>\n",
       "      <td>b</td>\n",
       "      <td>abc323_b/54238360</td>\n",
       "      <td>2023-10-07</td>\n",
       "      <td>75</td>\n",
       "    </tr>\n",
       "  </tbody>\n",
       "</table>\n",
       "</div>"
      ],
      "text/plain": [
       "         ID     Pasta                                      faultyVersion  \\\n",
       "0  54981846  abc354_a  H = int(input())\\nP = 0\\n\\nfor i in range(H):\\...   \n",
       "1  44877017  abc242_a  #!/usr/bin/env python3\\n\\nimport sys\\n\\na, b, ...   \n",
       "2  44815699  abc229_b  import sys\\n\\na, b = input().split()\\n\\nn = mi...   \n",
       "3  45536785  abc261_a  l1,r1,l2,r2=map(int,input().split())\\nans=0\\nf...   \n",
       "4  54238360  abc323_b  N = int(input())\\nS = [\"\"] * N\\nfor i in range...   \n",
       "\n",
       "                                      correctVersion  faultLocation  \\\n",
       "0  H = int(input())\\nP = 0\\n\\nfor i in range(H + ...              4   \n",
       "1  #!/usr/bin/env python3\\n\\nimport sys\\n\\na, b, ...              9   \n",
       "2  import sys\\n\\na, b = input().split()\\n\\nn = mi...              7   \n",
       "3  l1,r1,l2,r2=map(int,input().split())\\nans=0\\nf...              3   \n",
       "4  N = int(input())\\nS = [\"\"] * N\\nfor i in range...              0   \n",
       "\n",
       "  Dificuldade                Dir        Date  Difficulty  \n",
       "0           a  abc354_a/54981846  2024-05-18          21  \n",
       "1           a  abc242_a/44877017  2022-03-05          37  \n",
       "2           b  abc229_b/44815699  2021-11-27          42  \n",
       "3           a  abc261_a/45536785  2022-07-23          51  \n",
       "4           b  abc323_b/54238360  2023-10-07          75  "
      ]
     },
     "execution_count": 188,
     "metadata": {},
     "output_type": "execute_result"
    }
   ],
   "source": [
    "df.head()"
   ]
  },
  {
   "cell_type": "code",
   "execution_count": 187,
   "metadata": {},
   "outputs": [],
   "source": [
    "df = df.sort_values(by='Difficulty').reset_index(drop=True)"
   ]
  },
  {
   "cell_type": "code",
   "execution_count": 169,
   "metadata": {},
   "outputs": [],
   "source": [
    "def add_line_numbers(code_str):\n",
    "\n",
    "    code_str = code_str.replace('\\\\n', '\\n')\n",
    "    lines = code_str.split('\\n')\n",
    "    numbered_lines = [f\"{i+1}: {line}\" for i, line in enumerate(lines)]\n",
    "    return '\\n'.join(numbered_lines)\n",
    "\n",
    "df['numberedCode'] = df['faultyVersion'].apply(add_line_numbers)"
   ]
  },
  {
   "cell_type": "code",
   "execution_count": 170,
   "metadata": {},
   "outputs": [
    {
     "name": "stdout",
     "output_type": "stream",
     "text": [
      "N = int(input())\n",
      "list=[]\n",
      "for i in range(N):\n",
      "  if (i+1) % 3 == 0:\n",
      "    list.append(\"x\")\n",
      "  else:\n",
      "    list.append(\"o\")\n",
      "print(\" \".join(list))\n"
     ]
    }
   ],
   "source": [
    "print(df['faultyVersion'][5])"
   ]
  },
  {
   "cell_type": "code",
   "execution_count": 171,
   "metadata": {},
   "outputs": [
    {
     "name": "stdout",
     "output_type": "stream",
     "text": [
      "1: N = int(input())\n",
      "2: list=[]\n",
      "3: for i in range(N):\n",
      "4:   if (i+1) % 3 == 0:\n",
      "5:     list.append(\"x\")\n",
      "6:   else:\n",
      "7:     list.append(\"o\")\n",
      "8: print(\" \".join(list))\n"
     ]
    }
   ],
   "source": [
    "print(df['numberedCode'][5])"
   ]
  },
  {
   "cell_type": "markdown",
   "metadata": {},
   "source": [
    "Rodar poucas iterações para testes"
   ]
  },
  {
   "cell_type": "code",
   "execution_count": 172,
   "metadata": {},
   "outputs": [
    {
     "name": "stdout",
     "output_type": "stream",
     "text": [
      "Iteração: 1\n",
      "Iteração: 2\n",
      "Iteração: 3\n"
     ]
    }
   ],
   "source": [
    "count = 0\n",
    "for index, row in df.iterrows():\n",
    "    count+=1\n",
    "    if count > 3:\n",
    "        break\n",
    "    print(\"Iteração:\", count)\n",
    "    fault_code = row['numberedCode']\n",
    "    while True: \n",
    "        try:\n",
    "            answer = get_answer(fault_code) \n",
    "            df.at[index, 'Answer'] = answer \n",
    "            break  \n",
    "        except ValueError as e:\n",
    "            print(f\"Erro detectado: {e}. Tentando novamente em 2 segundos...\")\n",
    "            time.sleep(2)"
   ]
  },
  {
   "cell_type": "code",
   "execution_count": 192,
   "metadata": {},
   "outputs": [
    {
     "data": {
      "text/html": [
       "<div>\n",
       "<style scoped>\n",
       "    .dataframe tbody tr th:only-of-type {\n",
       "        vertical-align: middle;\n",
       "    }\n",
       "\n",
       "    .dataframe tbody tr th {\n",
       "        vertical-align: top;\n",
       "    }\n",
       "\n",
       "    .dataframe thead th {\n",
       "        text-align: right;\n",
       "    }\n",
       "</style>\n",
       "<table border=\"1\" class=\"dataframe\">\n",
       "  <thead>\n",
       "    <tr style=\"text-align: right;\">\n",
       "      <th></th>\n",
       "      <th>ID</th>\n",
       "      <th>Pasta</th>\n",
       "      <th>faultyVersion</th>\n",
       "      <th>correctVersion</th>\n",
       "      <th>faultLocation</th>\n",
       "      <th>Dificuldade</th>\n",
       "      <th>Dir</th>\n",
       "      <th>Date</th>\n",
       "      <th>Difficulty</th>\n",
       "    </tr>\n",
       "  </thead>\n",
       "  <tbody>\n",
       "    <tr>\n",
       "      <th>0</th>\n",
       "      <td>54981846</td>\n",
       "      <td>abc354_a</td>\n",
       "      <td>H = int(input())\\nP = 0\\n\\nfor i in range(H):\\...</td>\n",
       "      <td>H = int(input())\\nP = 0\\n\\nfor i in range(H + ...</td>\n",
       "      <td>4</td>\n",
       "      <td>a</td>\n",
       "      <td>abc354_a/54981846</td>\n",
       "      <td>2024-05-18</td>\n",
       "      <td>21</td>\n",
       "    </tr>\n",
       "    <tr>\n",
       "      <th>1</th>\n",
       "      <td>44877017</td>\n",
       "      <td>abc242_a</td>\n",
       "      <td>#!/usr/bin/env python3\\n\\nimport sys\\n\\na, b, ...</td>\n",
       "      <td>#!/usr/bin/env python3\\n\\nimport sys\\n\\na, b, ...</td>\n",
       "      <td>9</td>\n",
       "      <td>a</td>\n",
       "      <td>abc242_a/44877017</td>\n",
       "      <td>2022-03-05</td>\n",
       "      <td>37</td>\n",
       "    </tr>\n",
       "    <tr>\n",
       "      <th>2</th>\n",
       "      <td>44815699</td>\n",
       "      <td>abc229_b</td>\n",
       "      <td>import sys\\n\\na, b = input().split()\\n\\nn = mi...</td>\n",
       "      <td>import sys\\n\\na, b = input().split()\\n\\nn = mi...</td>\n",
       "      <td>7</td>\n",
       "      <td>b</td>\n",
       "      <td>abc229_b/44815699</td>\n",
       "      <td>2021-11-27</td>\n",
       "      <td>42</td>\n",
       "    </tr>\n",
       "    <tr>\n",
       "      <th>3</th>\n",
       "      <td>45536785</td>\n",
       "      <td>abc261_a</td>\n",
       "      <td>l1,r1,l2,r2=map(int,input().split())\\nans=0\\nf...</td>\n",
       "      <td>l1,r1,l2,r2=map(int,input().split())\\nans=0\\nf...</td>\n",
       "      <td>3</td>\n",
       "      <td>a</td>\n",
       "      <td>abc261_a/45536785</td>\n",
       "      <td>2022-07-23</td>\n",
       "      <td>51</td>\n",
       "    </tr>\n",
       "    <tr>\n",
       "      <th>4</th>\n",
       "      <td>54238360</td>\n",
       "      <td>abc323_b</td>\n",
       "      <td>N = int(input())\\nS = [\"\"] * N\\nfor i in range...</td>\n",
       "      <td>N = int(input())\\nS = [\"\"] * N\\nfor i in range...</td>\n",
       "      <td>0</td>\n",
       "      <td>b</td>\n",
       "      <td>abc323_b/54238360</td>\n",
       "      <td>2023-10-07</td>\n",
       "      <td>75</td>\n",
       "    </tr>\n",
       "  </tbody>\n",
       "</table>\n",
       "</div>"
      ],
      "text/plain": [
       "         ID     Pasta                                      faultyVersion  \\\n",
       "0  54981846  abc354_a  H = int(input())\\nP = 0\\n\\nfor i in range(H):\\...   \n",
       "1  44877017  abc242_a  #!/usr/bin/env python3\\n\\nimport sys\\n\\na, b, ...   \n",
       "2  44815699  abc229_b  import sys\\n\\na, b = input().split()\\n\\nn = mi...   \n",
       "3  45536785  abc261_a  l1,r1,l2,r2=map(int,input().split())\\nans=0\\nf...   \n",
       "4  54238360  abc323_b  N = int(input())\\nS = [\"\"] * N\\nfor i in range...   \n",
       "\n",
       "                                      correctVersion  faultLocation  \\\n",
       "0  H = int(input())\\nP = 0\\n\\nfor i in range(H + ...              4   \n",
       "1  #!/usr/bin/env python3\\n\\nimport sys\\n\\na, b, ...              9   \n",
       "2  import sys\\n\\na, b = input().split()\\n\\nn = mi...              7   \n",
       "3  l1,r1,l2,r2=map(int,input().split())\\nans=0\\nf...              3   \n",
       "4  N = int(input())\\nS = [\"\"] * N\\nfor i in range...              0   \n",
       "\n",
       "  Dificuldade                Dir        Date  Difficulty  \n",
       "0           a  abc354_a/54981846  2024-05-18          21  \n",
       "1           a  abc242_a/44877017  2022-03-05          37  \n",
       "2           b  abc229_b/44815699  2021-11-27          42  \n",
       "3           a  abc261_a/45536785  2022-07-23          51  \n",
       "4           b  abc323_b/54238360  2023-10-07          75  "
      ]
     },
     "execution_count": 192,
     "metadata": {},
     "output_type": "execute_result"
    }
   ],
   "source": [
    "df.head()"
   ]
  }
 ],
 "metadata": {
  "kernelspec": {
   "display_name": "Python 3",
   "language": "python",
   "name": "python3"
  },
  "language_info": {
   "codemirror_mode": {
    "name": "ipython",
    "version": 3
   },
   "file_extension": ".py",
   "mimetype": "text/x-python",
   "name": "python",
   "nbconvert_exporter": "python",
   "pygments_lexer": "ipython3",
   "version": "3.12.4"
  }
 },
 "nbformat": 4,
 "nbformat_minor": 2
}
